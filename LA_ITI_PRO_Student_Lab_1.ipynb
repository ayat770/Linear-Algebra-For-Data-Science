{
 "cells": [
  {
   "cell_type": "markdown",
   "metadata": {
    "id": "Ihi1kYaqEvfP"
   },
   "source": [
    "# LAB 1: Matrix and Vector Computations in python\n",
    "\n",
    "In this lab you will use python to study the following topics:\n",
    "\n",
    "- How to create matrices and vectors in python.\n",
    "\n",
    "- How to manipulate matrices in python and create matrices of special types.\n",
    "\n",
    "- How to add matrices and multiply a vector by a matrix by python.\n",
    "\n",
    "- Apply linear transformation.\n"
   ]
  },
  {
   "cell_type": "markdown",
   "metadata": {
    "id": "U3YqhAYcEvfT"
   },
   "source": [
    "# First: you should run this cell"
   ]
  },
  {
   "cell_type": "code",
   "execution_count": 2,
   "metadata": {
    "executionInfo": {
     "elapsed": 645,
     "status": "ok",
     "timestamp": 1618834963982,
     "user": {
      "displayName": "Sarah El Araby",
      "photoUrl": "",
      "userId": "06425516478891347567"
     },
     "user_tz": -120
    },
    "id": "GjHgLZJ-EvfT"
   },
   "outputs": [],
   "source": [
    "# Make all numpy available via shorter 'np' prefix\n",
    "import numpy as np\n",
    "\n",
    "import matplotlib.pyplot as plt"
   ]
  },
  {
   "cell_type": "markdown",
   "metadata": {
    "id": "B3I0Nz9MEvfT"
   },
   "source": [
    "# Question 1 :Declaring scalars, vectors, and matrices\n",
    "\n",
    "a) Use [numpy.array](https://numpy.org/doc/stable/reference/generated/numpy.array.html) to declare the following:\n",
    "\n",
    "1. A scalar $s = 5$\n",
    "2. A vector $v = \\begin{bmatrix} 5  \\\\ -2 \\\\ 4  \\\\ \\end{bmatrix}$\n",
    "3. A matrix $A = \\begin{bmatrix} 1 & 2 & 3  \\\\ 4 & 5 & 6 \\\\ 7 & 8 & 9  \\\\ \\end{bmatrix}$\n",
    "4. A matrix $B = \\begin{bmatrix} 1 & 2 & 3  \\\\ 4 & 5 & 6 \\\\ \\end{bmatrix}$\n",
    "5. A matrix $C = \\begin{bmatrix} 1 & 2   \\\\ 3 & 4  \\\\ 5 & 6   \\\\ \\end{bmatrix}$"
   ]
  },
  {
   "cell_type": "code",
   "execution_count": 3,
   "metadata": {
    "id": "v5JdgS_YEvfT",
    "outputId": "d497d967-685a-4c05-eb6f-68a7e9a1c13f"
   },
   "outputs": [
    {
     "name": "stdout",
     "output_type": "stream",
     "text": [
      "s =  5\n",
      "V =  [[ 5]\n",
      " [-2]\n",
      " [ 4]]\n",
      "A =  [[1 2 3]\n",
      " [4 5 6]\n",
      " [7 8 9]]\n",
      "B =  [[1 2 3]\n",
      " [4 5 6]]\n",
      "C =  [[1 2]\n",
      " [3 4]\n",
      " [5 6]]\n"
     ]
    }
   ],
   "source": [
    "#type your code here:\n",
    "s=5\n",
    "print(\"s = \",s)\n",
    "v = np.array([[5],[-2],[4]])\n",
    "print(\"V = \",v)\n",
    "a = np.array([[1,2,3],[4,5,6],[7,8,9]])\n",
    "print(\"A = \",a)\n",
    "b= np.array([[1,2,3],[4,5,6]])\n",
    "print(\"B = \",b)\n",
    "c= np.array([[1,2],[3,4],[5,6]])\n",
    "print(\"C = \",c)\n"
   ]
  },
  {
   "cell_type": "markdown",
   "metadata": {
    "id": "7-tmJR2vEvfU"
   },
   "source": [
    "b) Print the data type of $s, v,$ and $A$ using `type` command in python."
   ]
  },
  {
   "cell_type": "code",
   "execution_count": 4,
   "metadata": {
    "id": "5vMMKeE_EvfU",
    "outputId": "c2982288-86c7-41e2-fe1a-14f850c5a830"
   },
   "outputs": [
    {
     "name": "stdout",
     "output_type": "stream",
     "text": [
      "<class 'numpy.ndarray'>\n",
      "<class 'numpy.ndarray'>\n",
      "<class 'numpy.ndarray'>\n"
     ]
    }
   ],
   "source": [
    "#type your code here:\n",
    "print(type(a))\n",
    "print(type(v))\n",
    "print(type(a))"
   ]
  },
  {
   "cell_type": "markdown",
   "metadata": {
    "id": "iWw4dmc0EvfV"
   },
   "source": [
    "c) Using [numpy.shape](https://numpy.org/devdocs/reference/generated/numpy.shape.html) or `A.shape` print the shape of $s, v, A, B,$ and $C$."
   ]
  },
  {
   "cell_type": "code",
   "execution_count": 5,
   "metadata": {
    "id": "lrcPV7ImEvfV",
    "outputId": "9150b839-97d0-40ff-ea20-71f46990171f"
   },
   "outputs": [
    {
     "name": "stdout",
     "output_type": "stream",
     "text": [
      "()\n",
      "(3, 1)\n",
      "(3, 3)\n",
      "(2, 3)\n",
      "(3, 2)\n"
     ]
    }
   ],
   "source": [
    "#type your code here:\n",
    "print(np.shape(s))\n",
    "print(np.shape(v))\n",
    "print(np.shape(a))\n",
    "print(np.shape(b))\n",
    "print(np.shape(c))\n",
    "\n"
   ]
  },
  {
   "cell_type": "markdown",
   "metadata": {
    "id": "S8PykP0BEvfV"
   },
   "source": [
    "d) To access a given entry in the `numpy array` put the `row number - 1` and `column number - 1` in square brackets following the array name. Ex `a32 = A[2, 1]`.\n",
    "- Print the value of the third row and the second column of the matrix $A$.\n",
    "- Change it to $10$.\n",
    "- Print the matrix A to check the entry is changed."
   ]
  },
  {
   "cell_type": "code",
   "execution_count": 6,
   "metadata": {
    "id": "S3j9JNIJEvfV",
    "outputId": "7f670672-1530-43a0-ed0c-49d98c29ad14"
   },
   "outputs": [
    {
     "name": "stdout",
     "output_type": "stream",
     "text": [
      "8\n",
      "[[ 1  2  3]\n",
      " [ 4  5  6]\n",
      " [ 7 10  9]]\n"
     ]
    }
   ],
   "source": [
    "#type your code here:\n",
    "print(a[2,1])\n",
    "a[2,1]=10\n",
    "print(a)\n"
   ]
  },
  {
   "cell_type": "markdown",
   "metadata": {
    "id": "tI0g46PLEvfW"
   },
   "source": [
    "e)To access a whole row or column of a matrix, use the colon operator. For example, `A[:, [1]]` is the second column of A, while `B[[1], :]` is the second row of B."
   ]
  },
  {
   "cell_type": "code",
   "execution_count": 7,
   "metadata": {
    "id": "8tMW5PPlEvfW",
    "outputId": "5cdff3ce-8cab-444e-907e-e6a1efd57643"
   },
   "outputs": [
    {
     "name": "stdout",
     "output_type": "stream",
     "text": [
      "[[ 2]\n",
      " [ 5]\n",
      " [10]]\n",
      "[[4 5 6]]\n"
     ]
    }
   ],
   "source": [
    "#type your code here:\n",
    "print(a[:,[1]])\n",
    "print(b[[1],:])"
   ]
  },
  {
   "cell_type": "markdown",
   "metadata": {
    "id": "XUeYe1HfEvfW"
   },
   "source": [
    "f) Type each of the following commands that generate special matrices:\n",
    "- `np.eye(4), np.zeros(3), np.zeros((3, 1)), np.zeros((3, 5)), np.ones((2, 3)), and np.diag([4, 5, 6, 7])`"
   ]
  },
  {
   "cell_type": "code",
   "execution_count": 8,
   "metadata": {
    "id": "LXRh8P7aEvfW",
    "outputId": "6ee0e1fe-5aa0-497f-c020-b5d6b369a5d2"
   },
   "outputs": [
    {
     "name": "stdout",
     "output_type": "stream",
     "text": [
      "[[1. 0. 0. 0.]\n",
      " [0. 1. 0. 0.]\n",
      " [0. 0. 1. 0.]\n",
      " [0. 0. 0. 1.]]\n",
      "[0. 0. 0.]\n",
      "[[0.]\n",
      " [0.]\n",
      " [0.]]\n",
      "[[0. 0. 0. 0. 0.]\n",
      " [0. 0. 0. 0. 0.]\n",
      " [0. 0. 0. 0. 0.]]\n",
      "[[1. 1. 1.]\n",
      " [1. 1. 1.]]\n",
      "[[4 0 0 0]\n",
      " [0 5 0 0]\n",
      " [0 0 6 0]\n",
      " [0 0 0 7]]\n"
     ]
    }
   ],
   "source": [
    "#type your code here:\n",
    "print(np.eye(4))\n",
    "print(np.zeros(3))\n",
    "print( np.zeros((3, 1)))\n",
    "print(np.zeros((3,5)))\n",
    "print(np.ones((2,3)))\n",
    "print(np.diag([4,5,6,7]))"
   ]
  },
  {
   "cell_type": "markdown",
   "metadata": {
    "id": "JtWK59mUEvfW"
   },
   "source": [
    "# Question 2. Vectors Addition, Scaling, and dot product"
   ]
  },
  {
   "cell_type": "markdown",
   "metadata": {
    "id": "06zn0zrIEvfX"
   },
   "source": [
    "a) Declare vectors $v1 = \\begin{bmatrix} 1  \\\\ 2 \\\\ 7  \\\\ 4 \\\\ \\end{bmatrix}$ and $v2 = \\begin{bmatrix} 4  \\\\ 3 \\\\ 6  \\\\ 8 \\\\ \\end{bmatrix}$\n",
    "\n",
    "- Addition: $v1 + v2$\n",
    "- Subtraction: $v1 - v2$\n",
    "- Scaling by a number: $3 * v1$\n",
    "- Scaling by a number: $v1 / 2$"
   ]
  },
  {
   "cell_type": "code",
   "execution_count": 9,
   "metadata": {
    "id": "PKongu6oEvfX",
    "outputId": "d044fae8-e177-4b15-849b-120d38432296"
   },
   "outputs": [
    {
     "name": "stdout",
     "output_type": "stream",
     "text": [
      "[[1]\n",
      " [2]\n",
      " [7]\n",
      " [4]]\n",
      "[[4]\n",
      " [3]\n",
      " [6]\n",
      " [8]]\n",
      "[[ 5]\n",
      " [ 5]\n",
      " [13]\n",
      " [12]]\n",
      "[[ 3]\n",
      " [ 6]\n",
      " [21]\n",
      " [12]]\n",
      "[[0.5]\n",
      " [1. ]\n",
      " [3.5]\n",
      " [2. ]]\n"
     ]
    }
   ],
   "source": [
    "#type your code here:\n",
    "v1 = np.array([[1],[2],[7],[4]])\n",
    "print(v1)\n",
    "v2=np.array([[4],[3],[6],[8]])\n",
    "print(v2)\n",
    "print(v1+v2)\n",
    "print(3*v1)\n",
    "print(v1/2)"
   ]
  },
  {
   "cell_type": "markdown",
   "metadata": {
    "id": "tXdr75gAEvfX"
   },
   "source": [
    "b) Find the dot product between the two vectors $v1$ and $v2$ using the following:\n",
    "\n",
    "- [numpy.dot](https://numpy.org/doc/stable/reference/generated/numpy.dot.html)\n",
    "- [numpy.matmul](https://numpy.org/doc/stable/reference/generated/numpy.matmul.html#numpy.matmul)\n",
    "- `v1.T @ v2`"
   ]
  },
  {
   "cell_type": "code",
   "execution_count": 14,
   "metadata": {
    "id": "9oAX0hFaEvfY",
    "outputId": "e3bbbe6d-abcd-41f8-df2b-173ea941e581"
   },
   "outputs": [
    {
     "name": "stdout",
     "output_type": "stream",
     "text": [
      "[[84]]\n",
      "[[84]]\n",
      "[[84]]\n"
     ]
    }
   ],
   "source": [
    "#type your code here:\n",
    "print(np.dot(v1.T,v2))\n",
    "print(np.matmul(v1.T,v2))\n",
    "print(v1.T @ v2)"
   ]
  },
  {
   "cell_type": "markdown",
   "metadata": {
    "id": "FczlYPqYEvfY"
   },
   "source": [
    "c) Find the length of the vectors $v1$ and $v2$.\n",
    "- Using [numpy.linalg.norm](https://numpy.org/doc/stable/reference/generated/numpy.linalg.norm.html)\n",
    "- Using the dot product and [numpy.sqrt](https://numpy.org/doc/stable/reference/generated/numpy.sqrt.html)\n"
   ]
  },
  {
   "cell_type": "code",
   "execution_count": 18,
   "metadata": {
    "id": "pcXe3Oq6EvfY",
    "outputId": "9e19ddb0-2ca8-4391-a711-3f6cf5157c15"
   },
   "outputs": [
    {
     "name": "stdout",
     "output_type": "stream",
     "text": [
      "8.366600265340756\n",
      "8.366600265340756\n",
      "[[8.36660027]]\n",
      "[[11.18033989]]\n"
     ]
    }
   ],
   "source": [
    "#type your code here:\n",
    "print(np.linalg.norm(v1))\n",
    "print(np.linalg.norm(v1))\n",
    "print(np.sqrt(np.dot(v1.T,v1)))\n",
    "print(np.sqrt(np.dot(v2.T,v2)))"
   ]
  },
  {
   "cell_type": "markdown",
   "metadata": {
    "id": "ihg_TsHlEvfY"
   },
   "source": [
    "d) Show that the vectors $u = \\begin{bmatrix} 3  \\\\ 2 \\\\ -1  \\\\ 4 \\\\ \\end{bmatrix}$ and $v = \\begin{bmatrix} 1  \\\\ -1 \\\\ 1  \\\\ 0 \\\\ \\end{bmatrix}$ are orthogonal.\n"
   ]
  },
  {
   "cell_type": "code",
   "execution_count": 20,
   "metadata": {
    "id": "q4eufo9eEvfY",
    "outputId": "af0d46f9-f64d-4f76-8224-2d79da730132"
   },
   "outputs": [
    {
     "name": "stdout",
     "output_type": "stream",
     "text": [
      "[[0]]\n"
     ]
    }
   ],
   "source": [
    "#type your code here:\n",
    "u=np.array([[3],[2],[-1],[4]])\n",
    "v=np.array([[1],[-1],[1],[0]])\n",
    "print(np.dot(u.T,v))"
   ]
  },
  {
   "cell_type": "markdown",
   "metadata": {
    "id": "CoScAgBuEvfY"
   },
   "source": [
    "# Question 3. Matrix Addition and Matrix-Vector Multiplication\n",
    "\n",
    "Declare vectors $u$ and $v$ and matrices $A$ and $B$ as following:\n",
    "- $u = \\begin{bmatrix} 2  \\\\ 7 \\\\ 2 \\\\ \\end{bmatrix}$, $v = \\begin{bmatrix} 8  \\\\ 2 \\\\ 4 \\\\ \\end{bmatrix}$\n",
    "- $A = \\begin{bmatrix} 7 & 3 & 5  \\\\ 4 & 6 & 2 \\\\ \\end{bmatrix}$, $B = \\begin{bmatrix} 0 & 6 & 4  \\\\ 2 & 3 & 0 \\\\ \\end{bmatrix}$\n",
    "\n",
    "a) Calculate the following using python.\n",
    "\n",
    "- $A+B$\n",
    "- $B+A$\n",
    "- $3A$\n",
    "- $6B$\n",
    "- $2(3B)$\n",
    "- $6A+15B$\n",
    "- $3(2A+5B)$"
   ]
  },
  {
   "cell_type": "code",
   "execution_count": 21,
   "metadata": {
    "id": "NS1YPzyIEvfZ",
    "outputId": "625f786d-c40c-4a7b-fd70-2c0999375b1b"
   },
   "outputs": [
    {
     "name": "stdout",
     "output_type": "stream",
     "text": [
      "[[2]\n",
      " [7]\n",
      " [2]]\n",
      "[[8]\n",
      " [2]\n",
      " [4]]\n",
      "[[7 3 5]\n",
      " [4 6 2]]\n",
      "[[0 6 4]\n",
      " [2 3 0]]\n",
      "[[7 9 9]\n",
      " [6 9 2]]\n",
      "[[7 9 9]\n",
      " [6 9 2]]\n",
      "[[21  9 15]\n",
      " [12 18  6]]\n",
      "[[ 0 36 24]\n",
      " [12 18  0]]\n",
      "[[ 0 36 24]\n",
      " [12 18  0]]\n",
      "[[ 42 108  90]\n",
      " [ 54  81  12]]\n"
     ]
    }
   ],
   "source": [
    "#type your code here:\n",
    "u=np.array([[2],[7],[2]])\n",
    "v=np.array([[8],[2],[4]])\n",
    "a=np.array([[7,3,5],[4,6,2]])\n",
    "b=np.array([[0,6,4],[2,3,0]])\n",
    "print(u)\n",
    "print(v)\n",
    "print(a)\n",
    "print(b)\n",
    "print(a+b)\n",
    "print(b+a)\n",
    "print(3*a)\n",
    "print(6*b)\n",
    "print(2*(3*b))\n",
    "print((6*a)+(15*b))"
   ]
  },
  {
   "cell_type": "markdown",
   "metadata": {
    "id": "SoafGupiEvfZ"
   },
   "source": [
    "b) To obtain the matrix-vector product $Au$ using python, type `A @ u`. Calculate the following:\n",
    "\n",
    "- $Au+Av$\n",
    "- $A(u+v)$\n",
    "- $(A+B)u$\n",
    "- $Au+Bu$\n",
    "- $A(3u)$\n",
    "- $3A(u)$"
   ]
  },
  {
   "cell_type": "code",
   "execution_count": 28,
   "metadata": {
    "id": "c0S23D8iEvfZ",
    "outputId": "ad1cc690-e497-48a0-90de-990beb86837e"
   },
   "outputs": [
    {
     "name": "stdout",
     "output_type": "stream",
     "text": [
      "[[127]\n",
      " [106]]\n",
      "[[127]\n",
      " [106]]\n",
      "[[95]\n",
      " [79]]\n",
      "[[95]\n",
      " [79]]\n",
      "[[135]\n",
      " [162]]\n",
      "[[135]\n",
      " [162]]\n"
     ]
    }
   ],
   "source": [
    "#type your code here:\n",
    "print((a @ u)+(a @ v))\n",
    "print(a @ (u+v))\n",
    "print((a+b) @ u)\n",
    "print(a @ u + b @ u)\n",
    "print(a @ (3*u))\n",
    "print((3*a) @ u)"
   ]
  },
  {
   "cell_type": "markdown",
   "metadata": {
    "id": "BjUPLfXYEvfZ"
   },
   "source": [
    "# Question 4: Linear Transformation\n",
    "\n",
    "Declare a vector $v = \\begin{bmatrix} 5  \\\\ -2 \\\\ \\end{bmatrix}$\n",
    "\n",
    "a) Rotations: Generate a matrix Q and Let Q act on the vector\n",
    "\n",
    "$Q = \\begin{bmatrix} cos(\\theta) & -sin(\\theta)   \\\\ sin(\\theta) & cos(\\theta)    \\\\ \\end{bmatrix}$ where $\\theta = pi / 6$\n",
    "\n",
    "- Repeat with $\\theta = -pi/3$\n",
    "- Use [matplotlib.pyplot.quiver](https://matplotlib.org/stable/api/_as_gen/matplotlib.pyplot.quiver.html) to plot the vectors. Ex: `plt.quiver(v1[0], v1[1], angles='xy', scale_units='xy', scale=1, color='red', alpha=1)`\n",
    "- Describe in words how the vector has changed.\n"
   ]
  },
  {
   "cell_type": "code",
   "execution_count": 29,
   "metadata": {
    "id": "Ripc_ZQLEvfZ"
   },
   "outputs": [
    {
     "name": "stdout",
     "output_type": "stream",
     "text": [
      "v = \n",
      " [[ 5]\n",
      " [-2]]\n",
      "\t\n",
      "Q = \n",
      " [[ 0.8660254 -0.5      ]\n",
      " [ 0.5        0.8660254]]\n",
      "\t\n",
      "v1 = Q @ v = \n",
      " [[5.33012702]\n",
      " [0.76794919]]\n",
      "\t\n",
      "Q = \n",
      " [[ 0.5        0.8660254]\n",
      " [-0.8660254  0.5      ]]\n",
      "\t\n",
      "v1 = Q @ v = \n",
      " [[ 0.76794919]\n",
      " [-5.33012702]]\n",
      "\t\n"
     ]
    },
    {
     "data": {
      "image/png": "[encoded data removed]",
      "text/plain": [
       "<Figure size 432x288 with 1 Axes>"
      ]
     },
     "metadata": {
      "needs_background": "light"
     },
     "output_type": "display_data"
    }
   ],
   "source": [
    "#type your code here:\n",
    "v = np.array([[5],[-2]])\n",
    "print('v = \\n',v)\n",
    "print('\\t')\n",
    "plt.quiver(v[0], v[1], angles='xy', scale_units='xy', scale=100, color='red', alpha=1)\n",
    "x = np.array([np.pi/6, -np.pi/3])\n",
    "for i in x:\n",
    "  Q = np.array([[np.cos(i), -np.sin(i)],[np.sin(i), np.cos(i)]])\n",
    "  print('Q = \\n',Q)\n",
    "  print('\\t')\n",
    "  v1 = Q @ v\n",
    "  print('v1 = Q @ v = \\n', v1)\n",
    "  print('\\t')\n",
    "  plt.quiver(v1[0], v1[1], angles='xy', scale_units='xy', scale=100, alpha=1)\n"
   ]
  },
  {
   "cell_type": "markdown",
   "metadata": {
    "id": "LtTRNj-QEvfa"
   },
   "source": [
    "b) Dilations: Generate a matrix D by\n",
    "\n",
    "$D = \\begin{bmatrix} r & 0   \\\\ 0 & 1/r    \\\\ \\end{bmatrix}$ where $r = 0.9$\n",
    "\n",
    "- Repeat with $r = 0.8$\n",
    "- Use [matplotlib.pyplot.quiver](https://matplotlib.org/stable/api/_as_gen/matplotlib.pyplot.quiver.html) to plot the vectors\n",
    "- Describe in words how the vector has changed."
   ]
  },
  {
   "cell_type": "code",
   "execution_count": 30,
   "metadata": {
    "id": "VRuOAn1YEvfa"
   },
   "outputs": [
    {
     "name": "stdout",
     "output_type": "stream",
     "text": [
      "D = \n",
      " [[0.9        0.        ]\n",
      " [0.         1.11111111]]\n",
      "\t\n",
      "v1 = D @ v = \n",
      " [[ 4.5       ]\n",
      " [-2.22222222]]\n",
      "\t\n",
      "D = \n",
      " [[0.8  0.  ]\n",
      " [0.   1.25]]\n",
      "\t\n",
      "v1 = D @ v = \n",
      " [[ 4. ]\n",
      " [-2.5]]\n",
      "\t\n"
     ]
    },
    {
     "data": {
      "image/png": "[encoded data removed]",
      "text/plain": [
       "<Figure size 432x288 with 1 Axes>"
      ]
     },
     "metadata": {
      "needs_background": "light"
     },
     "output_type": "display_data"
    }
   ],
   "source": [
    "#type your code here:\n",
    "plt.quiver(v[0], v[1], angles='xy', scale_units='xy', scale=100, color='red', alpha=1)\n",
    "r = np.array([0.9, 0.8])\n",
    "for i in r:\n",
    "  D = np.array([[i, 0],[0, 1/i]])\n",
    "  print('D = \\n',D)\n",
    "  print('\\t')\n",
    "  v1 = D @ v\n",
    "  print('v1 = D @ v = \\n', v1)\n",
    "  print('\\t')\n",
    "  plt.quiver(v1[0], v1[1], angles='xy', scale_units='xy', scale=100, alpha=1)"
   ]
  },
  {
   "cell_type": "markdown",
   "metadata": {
    "id": "SQdsdRMuEvfa"
   },
   "source": [
    "c) Shearing Transformations: Generate a matrix T by\n",
    "$T = \\begin{bmatrix} 1 & t   \\\\ 0 & 1    \\\\ \\end{bmatrix}$ where $t = 0.5$\n",
    "\n",
    "- Repeat with $t = -0.5$\n",
    "- Use [matplotlib.pyplot.quiver](https://matplotlib.org/stable/api/_as_gen/matplotlib.pyplot.quiver.html) to plot the vectors\n",
    "- Describe in words how the vector has changed."
   ]
  },
  {
   "cell_type": "code",
   "execution_count": 31,
   "metadata": {
    "id": "KINeG7mmEvfa"
   },
   "outputs": [
    {
     "name": "stdout",
     "output_type": "stream",
     "text": [
      "T = \n",
      " [[1.  0.5]\n",
      " [0.  1. ]]\n",
      "\t\n",
      "v1 = T @ v = \n",
      " [[ 4.]\n",
      " [-2.]]\n",
      "\t\n",
      "T = \n",
      " [[ 1.  -0.5]\n",
      " [ 0.   1. ]]\n",
      "\t\n",
      "v1 = T @ v = \n",
      " [[ 6.]\n",
      " [-2.]]\n",
      "\t\n"
     ]
    },
    {
     "data": {
      "image/png": "[encoded data removed]",
      "text/plain": [
       "<Figure size 432x288 with 1 Axes>"
      ]
     },
     "metadata": {
      "needs_background": "light"
     },
     "output_type": "display_data"
    }
   ],
   "source": [
    "#type your code here:\n",
    "plt.quiver(v[0], v[1], angles='xy', scale_units='xy', scale=100, color='red', alpha=1)\n",
    "t = np.array([0.5, -0.5])\n",
    "for i in t:\n",
    "  T = np.array([[1, i],[0, 1]])\n",
    "  print('T = \\n',T)\n",
    "  print('\\t')\n",
    "  v1 = T @ v\n",
    "  print('v1 = T @ v = \\n', v1)\n",
    "  print('\\t')\n",
    "  plt.quiver(v1[0], v1[1], angles='xy', scale_units='xy', scale=130, alpha=1)\n"
   ]
  },
  {
   "cell_type": "code",
   "execution_count": null,
   "metadata": {},
   "outputs": [],
   "source": []
  }
 ],
 "metadata": {
  "colab": {
   "collapsed_sections": [],
   "name": "LA_ITI_PRO_Student_Lab_1.ipynb",
   "provenance": []
  },
  "kernelspec": {
   "display_name": "Python 3",
   "language": "python",
   "name": "python3"
  },
  "language_info": {
   "codemirror_mode": {
    "name": "ipython",
    "version": 3
   },
   "file_extension": ".py",
   "mimetype": "text/x-python",
   "name": "python",
   "nbconvert_exporter": "python",
   "pygments_lexer": "ipython3",
   "version": "3.8.5"
  }
 },
 "nbformat": 4,
 "nbformat_minor": 1
}
